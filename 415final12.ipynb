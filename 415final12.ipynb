{
 "cells": [
  {
   "cell_type": "markdown",
   "metadata": {},
   "source": [
    "1. Load and Preprocess Dataset"
   ]
  },
  {
   "cell_type": "code",
   "execution_count": 1,
   "metadata": {},
   "outputs": [
    {
     "name": "stderr",
     "output_type": "stream",
     "text": [
      "[nltk_data] Downloading package stopwords to\n",
      "[nltk_data]     /Users/hanhuazhu/nltk_data...\n",
      "[nltk_data]   Package stopwords is already up-to-date!\n",
      "[nltk_data] Downloading package punkt to /Users/hanhuazhu/nltk_data...\n",
      "[nltk_data]   Package punkt is already up-to-date!\n"
     ]
    }
   ],
   "source": [
    "import pandas as pd\n",
    "import numpy as np\n",
    "import nltk\n",
    "import re\n",
    "import torch\n",
    "import torch.nn as nn\n",
    "import torch.optim as optim\n",
    "from sklearn.feature_extraction.text import TfidfVectorizer\n",
    "from sklearn.model_selection import train_test_split\n",
    "from sklearn.svm import SVC\n",
    "from sklearn.linear_model import LogisticRegression\n",
    "from sklearn.pipeline import make_pipeline\n",
    "from sklearn.preprocessing import LabelEncoder\n",
    "from transformers import BertTokenizer, BertForSequenceClassification, Trainer, TrainingArguments, DistilBertForSequenceClassification, DistilBertTokenizer\n",
    "from torch.utils.data import Dataset, DataLoader\n",
    "from gensim.models.ldamodel import LdaModel\n",
    "from gensim.corpora import Dictionary\n",
    "from gensim.models.coherencemodel import CoherenceModel\n",
    "from nltk.corpus import stopwords\n",
    "\n",
    "# Ensure necessary NLTK resources are available\n",
    "nltk.download('stopwords')\n",
    "nltk.download('punkt')\n",
    "\n",
    "# Load Fake and True News Datasets\n",
    "df_fake = pd.read_csv(\"Fake.csv\")\n",
    "df_fake[\"label\"] = 1  # Assign label 1 for Fake News\n",
    "\n",
    "df_true = pd.read_csv(\"True.csv\")\n",
    "df_true[\"label\"] = 0  # Assign label 0 for Real News\n",
    "\n",
    "# Combine both datasets\n",
    "df = pd.concat([df_fake, df_true], ignore_index=True)\n",
    "\n",
    "# Preprocessing Function\n",
    "def preprocess_text(text):\n",
    "    stop_words = set(stopwords.words('english'))\n",
    "    text = re.sub(r\"[^a-zA-Z\\s]\", \"\", str(text).lower())  # Remove non-alphabetic characters\n",
    "    words = text.split()\n",
    "    words = [word for word in words if word not in stop_words]  # Remove stopwords\n",
    "    return \" \".join(words)\n",
    "\n",
    "# Apply preprocessing\n",
    "df['clean_text'] = df['title'].apply(preprocess_text)\n",
    "\n",
    "# Split dataset\n",
    "X_train, X_test, y_train, y_test = train_test_split(df['clean_text'], df['label'], test_size=0.2, random_state=42)"
   ]
  },
  {
   "cell_type": "markdown",
   "metadata": {},
   "source": [
    "2. Train & Evaluate Traditional ML Models\n",
    "2.1 TF-IDF + Support Vector Machine (SVM"
   ]
  },
  {
   "cell_type": "code",
   "execution_count": 2,
   "metadata": {},
   "outputs": [
    {
     "name": "stdout",
     "output_type": "stream",
     "text": [
      "SVM Accuracy: 0.9407572383073497\n",
      "              precision    recall  f1-score   support\n",
      "\n",
      "           0       0.93      0.94      0.94      4247\n",
      "           1       0.95      0.94      0.94      4733\n",
      "\n",
      "    accuracy                           0.94      8980\n",
      "   macro avg       0.94      0.94      0.94      8980\n",
      "weighted avg       0.94      0.94      0.94      8980\n",
      "\n"
     ]
    }
   ],
   "source": [
    "from sklearn.metrics import accuracy_score, classification_report\n",
    "\n",
    "# TF-IDF Vectorization\n",
    "vectorizer = TfidfVectorizer(max_features=5000)\n",
    "X_train_tfidf = vectorizer.fit_transform(X_train)\n",
    "X_test_tfidf = vectorizer.transform(X_test)\n",
    "\n",
    "# Train SVM Model\n",
    "svm_model = SVC(kernel='linear')\n",
    "svm_model.fit(X_train_tfidf, y_train)\n",
    "\n",
    "# Predictions & Evaluation\n",
    "y_pred_svm = svm_model.predict(X_test_tfidf)\n",
    "print(\"SVM Accuracy:\", accuracy_score(y_test, y_pred_svm))\n",
    "print(classification_report(y_test, y_pred_svm))"
   ]
  },
  {
   "cell_type": "markdown",
   "metadata": {},
   "source": [
    "2.2 TF-IDF + Logistic Regression"
   ]
  },
  {
   "cell_type": "code",
   "execution_count": 3,
   "metadata": {},
   "outputs": [
    {
     "name": "stdout",
     "output_type": "stream",
     "text": [
      "Logistic Regression Accuracy: 0.9416481069042316\n",
      "              precision    recall  f1-score   support\n",
      "\n",
      "           0       0.93      0.95      0.94      4247\n",
      "           1       0.95      0.94      0.94      4733\n",
      "\n",
      "    accuracy                           0.94      8980\n",
      "   macro avg       0.94      0.94      0.94      8980\n",
      "weighted avg       0.94      0.94      0.94      8980\n",
      "\n"
     ]
    }
   ],
   "source": [
    "# Train Logistic Regression Model\n",
    "log_reg = LogisticRegression()\n",
    "log_reg.fit(X_train_tfidf, y_train)\n",
    "\n",
    "# Predictions & Evaluation\n",
    "y_pred_logreg = log_reg.predict(X_test_tfidf)\n",
    "print(\"Logistic Regression Accuracy:\", accuracy_score(y_test, y_pred_logreg))\n",
    "print(classification_report(y_test, y_pred_logreg))"
   ]
  },
  {
   "cell_type": "markdown",
   "metadata": {},
   "source": [
    "3. Train & Evaluate Deep Learning Models \n",
    "3.1 LSTM"
   ]
  },
  {
   "cell_type": "code",
   "execution_count": 4,
   "metadata": {},
   "outputs": [
    {
     "name": "stderr",
     "output_type": "stream",
     "text": [
      "/var/folders/n6/y_4fsn553lq6_fzmfb11cjth0000gn/T/ipykernel_26700/378283389.py:21: UserWarning: Creating a tensor from a list of numpy.ndarrays is extremely slow. Please consider converting the list to a single numpy.ndarray with numpy.array() before converting to a tensor. (Triggered internally at /private/var/folders/nz/j6p8yfhx1mv_0grj5xl4650h0000gp/T/abs_1aidzjezue/croot/pytorch_1687856425340/work/torch/csrc/utils/tensor_new.cpp:248.)\n",
      "  X_train_tensor = torch.tensor([np.pad(seq, (0, max_len - len(seq)), mode='constant')[:max_len] for seq in X_train_indices])\n"
     ]
    },
    {
     "name": "stdout",
     "output_type": "stream",
     "text": [
      "Epoch 1, Loss: 0.6976\n",
      "Epoch 2, Loss: 0.6965\n",
      "Epoch 3, Loss: 0.6841\n",
      "Epoch 4, Loss: 0.6946\n",
      "Epoch 5, Loss: 0.6650\n"
     ]
    }
   ],
   "source": [
    "# Import necessary libraries\n",
    "import torch\n",
    "import torch.nn as nn\n",
    "import torch.optim as optim\n",
    "from torch.utils.data import TensorDataset, DataLoader  # ✅ Import TensorDataset and DataLoader\n",
    "import numpy as np\n",
    "import nltk\n",
    "\n",
    "# Convert text to numerical tokens\n",
    "tokenizer = nltk.word_tokenize\n",
    "X_train_tokens = [tokenizer(text) for text in X_train]\n",
    "X_test_tokens = [tokenizer(text) for text in X_test]\n",
    "\n",
    "# Create word index mapping\n",
    "word2idx = {word: idx + 1 for idx, word in enumerate(set(sum(X_train_tokens, [])))}\n",
    "X_train_indices = [[word2idx[word] for word in text if word in word2idx] for text in X_train_tokens]\n",
    "X_test_indices = [[word2idx[word] for word in text if word in word2idx] for text in X_test_tokens]\n",
    "\n",
    "# Pad sequences\n",
    "max_len = 50\n",
    "X_train_tensor = torch.tensor([np.pad(seq, (0, max_len - len(seq)), mode='constant')[:max_len] for seq in X_train_indices])\n",
    "X_test_tensor = torch.tensor([np.pad(seq, (0, max_len - len(seq)), mode='constant')[:max_len] for seq in X_test_indices])\n",
    "y_train_tensor = torch.tensor(y_train.values)\n",
    "y_test_tensor = torch.tensor(y_test.values)\n",
    "\n",
    "# Define LSTM Model\n",
    "class LSTMModel(nn.Module):\n",
    "    def __init__(self, vocab_size, embed_dim, hidden_dim, output_dim):\n",
    "        super(LSTMModel, self).__init__()\n",
    "        self.embedding = nn.Embedding(vocab_size, embed_dim)\n",
    "        self.lstm = nn.LSTM(embed_dim, hidden_dim, batch_first=True)\n",
    "        self.fc = nn.Linear(hidden_dim, output_dim)\n",
    "\n",
    "    def forward(self, x):\n",
    "        x = self.embedding(x)\n",
    "        lstm_out, _ = self.lstm(x)\n",
    "        lstm_out = lstm_out[:, -1, :]\n",
    "        return self.fc(lstm_out)\n",
    "\n",
    "# Train LSTM Model\n",
    "lstm_model = LSTMModel(len(word2idx) + 1, 50, 100, 2)\n",
    "criterion = nn.CrossEntropyLoss()\n",
    "optimizer = optim.Adam(lstm_model.parameters(), lr=0.001)\n",
    "train_loader = DataLoader(TensorDataset(X_train_tensor, y_train_tensor), batch_size=32, shuffle=True)  # ✅ Now TensorDataset is defined\n",
    "\n",
    "for epoch in range(5):\n",
    "    for inputs, labels in train_loader:\n",
    "        optimizer.zero_grad()\n",
    "        outputs = lstm_model(inputs)\n",
    "        loss = criterion(outputs, labels)\n",
    "        loss.backward()\n",
    "        optimizer.step()\n",
    "    print(f\"Epoch {epoch+1}, Loss: {loss.item():.4f}\")"
   ]
  },
  {
   "cell_type": "markdown",
   "metadata": {},
   "source": [
    "4. Transformer-Based Models (BERT, DistilBERT)\n",
    "4.1 BERT for Fake News Detection"
   ]
  },
  {
   "cell_type": "code",
   "execution_count": 5,
   "metadata": {},
   "outputs": [
    {
     "name": "stdout",
     "output_type": "stream",
     "text": [
      "Requirement already satisfied: accelerate in /Users/hanhuazhu/anaconda3/lib/python3.11/site-packages (1.5.2)\n",
      "Requirement already satisfied: numpy<3.0.0,>=1.17 in /Users/hanhuazhu/anaconda3/lib/python3.11/site-packages (from accelerate) (1.24.3)\n",
      "Requirement already satisfied: packaging>=20.0 in /Users/hanhuazhu/anaconda3/lib/python3.11/site-packages (from accelerate) (23.0)\n",
      "Requirement already satisfied: psutil in /Users/hanhuazhu/anaconda3/lib/python3.11/site-packages (from accelerate) (5.9.0)\n",
      "Requirement already satisfied: pyyaml in /Users/hanhuazhu/anaconda3/lib/python3.11/site-packages (from accelerate) (6.0)\n",
      "Requirement already satisfied: torch>=2.0.0 in /Users/hanhuazhu/anaconda3/lib/python3.11/site-packages (from accelerate) (2.0.1)\n",
      "Requirement already satisfied: huggingface-hub>=0.21.0 in /Users/hanhuazhu/anaconda3/lib/python3.11/site-packages (from accelerate) (0.29.3)\n",
      "Requirement already satisfied: safetensors>=0.4.3 in /Users/hanhuazhu/anaconda3/lib/python3.11/site-packages (from accelerate) (0.5.3)\n",
      "Requirement already satisfied: filelock in /Users/hanhuazhu/anaconda3/lib/python3.11/site-packages (from huggingface-hub>=0.21.0->accelerate) (3.9.0)\n",
      "Requirement already satisfied: fsspec>=2023.5.0 in /Users/hanhuazhu/anaconda3/lib/python3.11/site-packages (from huggingface-hub>=0.21.0->accelerate) (2025.3.0)\n",
      "Requirement already satisfied: requests in /Users/hanhuazhu/anaconda3/lib/python3.11/site-packages (from huggingface-hub>=0.21.0->accelerate) (2.29.0)\n",
      "Requirement already satisfied: tqdm>=4.42.1 in /Users/hanhuazhu/anaconda3/lib/python3.11/site-packages (from huggingface-hub>=0.21.0->accelerate) (4.65.0)\n",
      "Requirement already satisfied: typing-extensions>=3.7.4.3 in /Users/hanhuazhu/anaconda3/lib/python3.11/site-packages (from huggingface-hub>=0.21.0->accelerate) (4.12.2)\n",
      "Requirement already satisfied: sympy in /Users/hanhuazhu/anaconda3/lib/python3.11/site-packages (from torch>=2.0.0->accelerate) (1.11.1)\n",
      "Requirement already satisfied: networkx in /Users/hanhuazhu/anaconda3/lib/python3.11/site-packages (from torch>=2.0.0->accelerate) (2.8.4)\n",
      "Requirement already satisfied: jinja2 in /Users/hanhuazhu/anaconda3/lib/python3.11/site-packages (from torch>=2.0.0->accelerate) (3.1.2)\n",
      "Requirement already satisfied: MarkupSafe>=2.0 in /Users/hanhuazhu/anaconda3/lib/python3.11/site-packages (from jinja2->torch>=2.0.0->accelerate) (2.1.1)\n",
      "Requirement already satisfied: charset-normalizer<4,>=2 in /Users/hanhuazhu/anaconda3/lib/python3.11/site-packages (from requests->huggingface-hub>=0.21.0->accelerate) (2.0.4)\n",
      "Requirement already satisfied: idna<4,>=2.5 in /Users/hanhuazhu/anaconda3/lib/python3.11/site-packages (from requests->huggingface-hub>=0.21.0->accelerate) (3.4)\n",
      "Requirement already satisfied: urllib3<1.27,>=1.21.1 in /Users/hanhuazhu/anaconda3/lib/python3.11/site-packages (from requests->huggingface-hub>=0.21.0->accelerate) (1.26.16)\n",
      "Requirement already satisfied: certifi>=2017.4.17 in /Users/hanhuazhu/anaconda3/lib/python3.11/site-packages (from requests->huggingface-hub>=0.21.0->accelerate) (2023.5.7)\n",
      "Requirement already satisfied: mpmath>=0.19 in /Users/hanhuazhu/anaconda3/lib/python3.11/site-packages (from sympy->torch>=2.0.0->accelerate) (1.2.1)\n",
      "Note: you may need to restart the kernel to use updated packages.\n"
     ]
    }
   ],
   "source": [
    "pip install --upgrade accelerate\n"
   ]
  },
  {
   "cell_type": "code",
   "execution_count": 6,
   "metadata": {},
   "outputs": [
    {
     "name": "stdout",
     "output_type": "stream",
     "text": [
      "Requirement already satisfied: transformers in /Users/hanhuazhu/anaconda3/lib/python3.11/site-packages (4.49.0)\n",
      "Requirement already satisfied: safetensors in /Users/hanhuazhu/anaconda3/lib/python3.11/site-packages (0.5.3)\n",
      "Requirement already satisfied: filelock in /Users/hanhuazhu/anaconda3/lib/python3.11/site-packages (from transformers) (3.9.0)\n",
      "Requirement already satisfied: huggingface-hub<1.0,>=0.26.0 in /Users/hanhuazhu/anaconda3/lib/python3.11/site-packages (from transformers) (0.29.3)\n",
      "Requirement already satisfied: numpy>=1.17 in /Users/hanhuazhu/anaconda3/lib/python3.11/site-packages (from transformers) (1.24.3)\n",
      "Requirement already satisfied: packaging>=20.0 in /Users/hanhuazhu/anaconda3/lib/python3.11/site-packages (from transformers) (23.0)\n",
      "Requirement already satisfied: pyyaml>=5.1 in /Users/hanhuazhu/anaconda3/lib/python3.11/site-packages (from transformers) (6.0)\n",
      "Requirement already satisfied: regex!=2019.12.17 in /Users/hanhuazhu/anaconda3/lib/python3.11/site-packages (from transformers) (2022.7.9)\n",
      "Requirement already satisfied: requests in /Users/hanhuazhu/anaconda3/lib/python3.11/site-packages (from transformers) (2.29.0)\n",
      "Requirement already satisfied: tokenizers<0.22,>=0.21 in /Users/hanhuazhu/anaconda3/lib/python3.11/site-packages (from transformers) (0.21.1)\n",
      "Requirement already satisfied: tqdm>=4.27 in /Users/hanhuazhu/anaconda3/lib/python3.11/site-packages (from transformers) (4.65.0)\n",
      "Requirement already satisfied: fsspec>=2023.5.0 in /Users/hanhuazhu/anaconda3/lib/python3.11/site-packages (from huggingface-hub<1.0,>=0.26.0->transformers) (2025.3.0)\n",
      "Requirement already satisfied: typing-extensions>=3.7.4.3 in /Users/hanhuazhu/anaconda3/lib/python3.11/site-packages (from huggingface-hub<1.0,>=0.26.0->transformers) (4.12.2)\n",
      "Requirement already satisfied: charset-normalizer<4,>=2 in /Users/hanhuazhu/anaconda3/lib/python3.11/site-packages (from requests->transformers) (2.0.4)\n",
      "Requirement already satisfied: idna<4,>=2.5 in /Users/hanhuazhu/anaconda3/lib/python3.11/site-packages (from requests->transformers) (3.4)\n",
      "Requirement already satisfied: urllib3<1.27,>=1.21.1 in /Users/hanhuazhu/anaconda3/lib/python3.11/site-packages (from requests->transformers) (1.26.16)\n",
      "Requirement already satisfied: certifi>=2017.4.17 in /Users/hanhuazhu/anaconda3/lib/python3.11/site-packages (from requests->transformers) (2023.5.7)\n",
      "Note: you may need to restart the kernel to use updated packages.\n"
     ]
    }
   ],
   "source": [
    "pip install --upgrade transformers safetensors\n"
   ]
  },
  {
   "cell_type": "code",
   "execution_count": 7,
   "metadata": {},
   "outputs": [
    {
     "name": "stdout",
     "output_type": "stream",
     "text": [
      "Requirement already satisfied: transformers in /Users/hanhuazhu/anaconda3/lib/python3.11/site-packages (4.49.0)\n",
      "Requirement already satisfied: filelock in /Users/hanhuazhu/anaconda3/lib/python3.11/site-packages (from transformers) (3.9.0)\n",
      "Requirement already satisfied: huggingface-hub<1.0,>=0.26.0 in /Users/hanhuazhu/anaconda3/lib/python3.11/site-packages (from transformers) (0.29.3)\n",
      "Requirement already satisfied: numpy>=1.17 in /Users/hanhuazhu/anaconda3/lib/python3.11/site-packages (from transformers) (1.24.3)\n",
      "Requirement already satisfied: packaging>=20.0 in /Users/hanhuazhu/anaconda3/lib/python3.11/site-packages (from transformers) (23.0)\n",
      "Requirement already satisfied: pyyaml>=5.1 in /Users/hanhuazhu/anaconda3/lib/python3.11/site-packages (from transformers) (6.0)\n",
      "Requirement already satisfied: regex!=2019.12.17 in /Users/hanhuazhu/anaconda3/lib/python3.11/site-packages (from transformers) (2022.7.9)\n",
      "Requirement already satisfied: requests in /Users/hanhuazhu/anaconda3/lib/python3.11/site-packages (from transformers) (2.29.0)\n",
      "Requirement already satisfied: tokenizers<0.22,>=0.21 in /Users/hanhuazhu/anaconda3/lib/python3.11/site-packages (from transformers) (0.21.1)\n",
      "Requirement already satisfied: safetensors>=0.4.1 in /Users/hanhuazhu/anaconda3/lib/python3.11/site-packages (from transformers) (0.5.3)\n",
      "Requirement already satisfied: tqdm>=4.27 in /Users/hanhuazhu/anaconda3/lib/python3.11/site-packages (from transformers) (4.65.0)\n",
      "Requirement already satisfied: fsspec>=2023.5.0 in /Users/hanhuazhu/anaconda3/lib/python3.11/site-packages (from huggingface-hub<1.0,>=0.26.0->transformers) (2025.3.0)\n",
      "Requirement already satisfied: typing-extensions>=3.7.4.3 in /Users/hanhuazhu/anaconda3/lib/python3.11/site-packages (from huggingface-hub<1.0,>=0.26.0->transformers) (4.12.2)\n",
      "Requirement already satisfied: charset-normalizer<4,>=2 in /Users/hanhuazhu/anaconda3/lib/python3.11/site-packages (from requests->transformers) (2.0.4)\n",
      "Requirement already satisfied: idna<4,>=2.5 in /Users/hanhuazhu/anaconda3/lib/python3.11/site-packages (from requests->transformers) (3.4)\n",
      "Requirement already satisfied: urllib3<1.27,>=1.21.1 in /Users/hanhuazhu/anaconda3/lib/python3.11/site-packages (from requests->transformers) (1.26.16)\n",
      "Requirement already satisfied: certifi>=2017.4.17 in /Users/hanhuazhu/anaconda3/lib/python3.11/site-packages (from requests->transformers) (2023.5.7)\n",
      "Note: you may need to restart the kernel to use updated packages.\n"
     ]
    }
   ],
   "source": [
    "pip install --upgrade transformers\n"
   ]
  },
  {
   "cell_type": "code",
   "execution_count": 5,
   "metadata": {},
   "outputs": [],
   "source": [
    "rm -rf ~/.cache/huggingface/transformers\n"
   ]
  },
  {
   "cell_type": "code",
   "execution_count": 6,
   "metadata": {},
   "outputs": [
    {
     "name": "stderr",
     "output_type": "stream",
     "text": [
      "Some weights of BertForSequenceClassification were not initialized from the model checkpoint at bert-base-uncased and are newly initialized: ['classifier.bias', 'classifier.weight']\n",
      "You should probably TRAIN this model on a down-stream task to be able to use it for predictions and inference.\n"
     ]
    }
   ],
   "source": [
    "model_bert = BertForSequenceClassification.from_pretrained(\n",
    "    \"bert-base-uncased\",\n",
    "    num_labels=2,\n",
    "    from_tf=False  \n",
    ")\n"
   ]
  },
  {
   "cell_type": "code",
   "execution_count": 7,
   "metadata": {},
   "outputs": [],
   "source": [
    "import pandas as pd\n",
    "from sklearn.model_selection import train_test_split\n",
    "df_fake = pd.read_csv(\"Fake.csv\")\n",
    "df_true = pd.read_csv(\"True.csv\")\n",
    "df_fake[\"label\"] = 0\n",
    "df_true[\"label\"] = 1\n",
    "df = pd.concat([df_fake, df_true], axis=0).reset_index(drop=True)\n",
    "df = df.sample(frac=1, random_state=42).reset_index(drop=True)\n",
    "train_texts, test_texts, train_labels, test_labels = train_test_split(\n",
    "    df[\"text\"], df[\"label\"], test_size=0.2, random_state=42\n",
    ")\n"
   ]
  },
  {
   "cell_type": "code",
   "execution_count": 8,
   "metadata": {},
   "outputs": [],
   "source": [
    "from transformers import BertTokenizer\n",
    "tokenizer = BertTokenizer.from_pretrained(\"bert-base-uncased\")\n",
    "train_encodings = tokenizer(\n",
    "    list(train_texts), truncation=True, padding=True, max_length=512, return_tensors=\"pt\"\n",
    ")\n",
    "test_encodings = tokenizer(\n",
    "    list(test_texts), truncation=True, padding=True, max_length=512, return_tensors=\"pt\"\n",
    ")\n"
   ]
  },
  {
   "cell_type": "code",
   "execution_count": 9,
   "metadata": {},
   "outputs": [],
   "source": [
    "import torch\n",
    "from torch.utils.data import Dataset\n",
    "\n",
    "class NewsDataset(Dataset):\n",
    "    def __init__(self, encodings, labels):\n",
    "        self.encodings = encodings\n",
    "        self.labels = torch.tensor(labels)\n",
    "\n",
    "    def __len__(self):\n",
    "        return len(self.labels)\n",
    "\n",
    "    def __getitem__(self, idx):\n",
    "        return {key: val[idx] for key, val in self.encodings.items()}, self.labels[idx]\n",
    "train_dataset = NewsDataset(train_encodings, train_labels.tolist())\n",
    "test_dataset = NewsDataset(test_encodings, test_labels.tolist())\n"
   ]
  },
  {
   "cell_type": "code",
   "execution_count": 13,
   "metadata": {},
   "outputs": [],
   "source": [
    "class NewsDataset(Dataset):\n",
    "    def __init__(self, encodings, labels):\n",
    "        self.encodings = encodings\n",
    "        self.labels = torch.tensor(labels, dtype=torch.long)  \n",
    "\n",
    "    def __len__(self):\n",
    "        return len(self.labels)\n",
    "\n",
    "    def __getitem__(self, idx):\n",
    "        item = {key: val[idx] for key, val in self.encodings.items()}\n",
    "        item[\"labels\"] = self.labels[idx]  \n",
    "        return item\n"
   ]
  },
  {
   "cell_type": "code",
   "execution_count": 15,
   "metadata": {},
   "outputs": [],
   "source": [
    "max_len = max([len(tokenizer.tokenize(txt)) for txt in train_texts])\n",
    "train_encodings = tokenizer(\n",
    "    list(train_texts),\n",
    "    truncation=True,\n",
    "    padding=True,\n",
    "    max_length=max_len,  \n",
    "    return_tensors=\"pt\"\n",
    ")\n"
   ]
  },
  {
   "cell_type": "code",
   "execution_count": 16,
   "metadata": {},
   "outputs": [],
   "source": [
    "# Tokenize the test set\n",
    "test_encodings = tokenizer(\n",
    "    list(test_texts),\n",
    "    truncation=True,\n",
    "    padding=True,\n",
    "    max_length=max_len,  # Use the same max length\n",
    "    return_tensors=\"pt\"\n",
    ")\n"
   ]
  },
  {
   "cell_type": "code",
   "execution_count": 17,
   "metadata": {},
   "outputs": [],
   "source": [
    "import torch\n",
    "from torch.utils.data import Dataset\n",
    "\n",
    "class NewsDataset(Dataset):\n",
    "    def __init__(self, encodings, labels):\n",
    "        self.encodings = encodings\n",
    "        self.labels = torch.tensor(labels, dtype=torch.long)  # Ensure labels are long\n",
    "\n",
    "    def __len__(self):\n",
    "        return len(self.labels)\n",
    "\n",
    "    def __getitem__(self, idx):\n",
    "        item = {key: val[idx] for key, val in self.encodings.items()}\n",
    "        item[\"labels\"] = self.labels[idx]  # Add labels explicitly\n",
    "        return item\n",
    "\n",
    "# Convert tokenized data into dataset format\n",
    "train_dataset = NewsDataset(train_encodings, train_labels.tolist())\n",
    "test_dataset = NewsDataset(test_encodings, test_labels.tolist())\n"
   ]
  },
  {
   "cell_type": "code",
   "execution_count": 18,
   "metadata": {},
   "outputs": [
    {
     "name": "stderr",
     "output_type": "stream",
     "text": [
      "Some weights of BertForSequenceClassification were not initialized from the model checkpoint at bert-base-uncased and are newly initialized: ['classifier.bias', 'classifier.weight']\n",
      "You should probably TRAIN this model on a down-stream task to be able to use it for predictions and inference.\n"
     ]
    }
   ],
   "source": [
    "from transformers import BertForSequenceClassification\n",
    "\n",
    "# Load BERT model\n",
    "model = BertForSequenceClassification.from_pretrained(\"bert-base-uncased\", num_labels=2)\n"
   ]
  },
  {
   "cell_type": "code",
   "execution_count": 19,
   "metadata": {},
   "outputs": [
    {
     "name": "stderr",
     "output_type": "stream",
     "text": [
      "/Users/hanhuazhu/anaconda3/lib/python3.11/site-packages/transformers/training_args.py:1594: FutureWarning: `evaluation_strategy` is deprecated and will be removed in version 4.46 of 🤗 Transformers. Use `eval_strategy` instead\n",
      "  warnings.warn(\n"
     ]
    }
   ],
   "source": [
    "from transformers import TrainingArguments\n",
    "\n",
    "training_args = TrainingArguments(\n",
    "    output_dir=\"./results\",\n",
    "    per_device_train_batch_size=8,\n",
    "    per_device_eval_batch_size=8,\n",
    "    num_train_epochs=3,\n",
    "    logging_dir=\"./logs\",\n",
    "    evaluation_strategy=\"epoch\"  # Evaluate at the end of each epoch\n",
    ")\n"
   ]
  },
  {
   "cell_type": "code",
   "execution_count": 20,
   "metadata": {},
   "outputs": [],
   "source": [
    "train_encodings = tokenizer(\n",
    "    list(train_texts),\n",
    "    truncation=True,      \n",
    "    padding=\"max_length\", \n",
    "    max_length=512,        \n",
    "    return_tensors=\"pt\"\n",
    ")\n",
    "\n",
    "test_encodings = tokenizer(\n",
    "    list(test_texts),\n",
    "    truncation=True,\n",
    "    padding=\"max_length\",\n",
    "    max_length=512,\n",
    "    return_tensors=\"pt\"\n",
    ")\n",
    "\n"
   ]
  },
  {
   "cell_type": "code",
   "execution_count": 21,
   "metadata": {},
   "outputs": [
    {
     "name": "stdout",
     "output_type": "stream",
     "text": [
      "Max token length in train set: 14283\n",
      "Max token length in test set: 9163\n"
     ]
    }
   ],
   "source": [
    "# Check the max length of tokenized text\n",
    "max_train_len = max([len(tokenizer.tokenize(txt)) for txt in train_texts])\n",
    "max_test_len = max([len(tokenizer.tokenize(txt)) for txt in test_texts])\n",
    "\n",
    "print(f\"Max token length in train set: {max_train_len}\")\n",
    "print(f\"Max token length in test set: {max_test_len}\")\n"
   ]
  },
  {
   "cell_type": "code",
   "execution_count": 22,
   "metadata": {},
   "outputs": [],
   "source": [
    "train_encodings = tokenizer(\n",
    "    list(train_texts),\n",
    "    truncation=True,         \n",
    "    padding=\"max_length\",    \n",
    "    max_length=512,          \n",
    "    return_tensors=\"pt\"\n",
    ")\n",
    "\n",
    "test_encodings = tokenizer(\n",
    "    list(test_texts),\n",
    "    truncation=True,\n",
    "    padding=\"max_length\",\n",
    "    max_length=512,\n",
    "    return_tensors=\"pt\"\n",
    ")\n"
   ]
  },
  {
   "cell_type": "code",
   "execution_count": 36,
   "metadata": {},
   "outputs": [
    {
     "name": "stdout",
     "output_type": "stream",
     "text": [
      "Max token length in train set after truncation: 512\n",
      "Max token length in test set after truncation: 512\n"
     ]
    }
   ],
   "source": [
    "max_train_len_after = max([len(x) for x in train_encodings[\"input_ids\"]])\n",
    "max_test_len_after = max([len(x) for x in test_encodings[\"input_ids\"]])\n",
    "\n",
    "print(f\"Max token length in train set after truncation: {max_train_len_after}\")\n",
    "print(f\"Max token length in test set after truncation: {max_test_len_after}\")\n"
   ]
  },
  {
   "cell_type": "code",
   "execution_count": 23,
   "metadata": {},
   "outputs": [],
   "source": [
    "import torch\n",
    "from torch.utils.data import Dataset\n",
    "\n",
    "class NewsDataset(Dataset):\n",
    "    def __init__(self, encodings, labels):\n",
    "        self.encodings = encodings\n",
    "        self.labels = torch.tensor(labels, dtype=torch.long)  # Ensure labels are tensors\n",
    "\n",
    "    def __len__(self):\n",
    "        return len(self.labels)\n",
    "\n",
    "    def __getitem__(self, idx):\n",
    "        item = {key: val[idx] for key, val in self.encodings.items()}\n",
    "        item[\"labels\"] = self.labels[idx]\n",
    "        return item\n",
    "\n",
    "# Create dataset objects\n",
    "train_dataset = NewsDataset(train_encodings, train_labels.tolist())\n",
    "test_dataset = NewsDataset(test_encodings, test_labels.tolist())\n"
   ]
  },
  {
   "cell_type": "code",
   "execution_count": 24,
   "metadata": {},
   "outputs": [
    {
     "name": "stderr",
     "output_type": "stream",
     "text": [
      "Some weights of BertForSequenceClassification were not initialized from the model checkpoint at bert-base-uncased and are newly initialized: ['classifier.bias', 'classifier.weight']\n",
      "You should probably TRAIN this model on a down-stream task to be able to use it for predictions and inference.\n"
     ]
    }
   ],
   "source": [
    "from transformers import BertForSequenceClassification\n",
    "\n",
    "model = BertForSequenceClassification.from_pretrained(\"bert-base-uncased\", num_labels=2)\n"
   ]
  },
  {
   "cell_type": "code",
   "execution_count": 25,
   "metadata": {},
   "outputs": [],
   "source": [
    "from transformers import TrainingArguments\n",
    "\n",
    "training_args = TrainingArguments(\n",
    "    output_dir=\"./results\",       # Directory to save model checkpoints\n",
    "    per_device_train_batch_size=8,   # Adjust based on available memory (reduce if out-of-memory error occurs)\n",
    "    per_device_eval_batch_size=8,\n",
    "    num_train_epochs=3,           # You can increase this for better accuracy\n",
    "    logging_dir=\"./logs\",         # Directory for logs\n",
    "    evaluation_strategy=\"epoch\"   # Evaluates at the end of each epoch\n",
    ")\n"
   ]
  },
  {
   "cell_type": "code",
   "execution_count": 26,
   "metadata": {},
   "outputs": [],
   "source": [
    "from transformers import Trainer\n",
    "\n",
    "trainer = Trainer(\n",
    "    model=model,\n",
    "    args=training_args,\n",
    "    train_dataset=train_dataset,\n",
    "    eval_dataset=test_dataset\n",
    ")\n"
   ]
  },
  {
   "cell_type": "code",
   "execution_count": 27,
   "metadata": {},
   "outputs": [
    {
     "data": {
      "text/html": [
       "\n",
       "    <div>\n",
       "      \n",
       "      <progress value='35' max='13470' style='width:300px; height:20px; vertical-align: middle;'></progress>\n",
       "      [   35/13470 26:28 < 179:40:45, 0.02 it/s, Epoch 0.01/3]\n",
       "    </div>\n",
       "    <table border=\"1\" class=\"dataframe\">\n",
       "  <thead>\n",
       " <tr style=\"text-align: left;\">\n",
       "      <th>Epoch</th>\n",
       "      <th>Training Loss</th>\n",
       "      <th>Validation Loss</th>\n",
       "    </tr>\n",
       "  </thead>\n",
       "  <tbody>\n",
       "  </tbody>\n",
       "</table><p>"
      ],
      "text/plain": [
       "<IPython.core.display.HTML object>"
      ]
     },
     "metadata": {},
     "output_type": "display_data"
    },
    {
     "ename": "KeyboardInterrupt",
     "evalue": "",
     "output_type": "error",
     "traceback": [
      "\u001b[0;31m---------------------------------------------------------------------------\u001b[0m",
      "\u001b[0;31mKeyboardInterrupt\u001b[0m                         Traceback (most recent call last)",
      "Cell \u001b[0;32mIn[27], line 1\u001b[0m\n\u001b[0;32m----> 1\u001b[0m trainer\u001b[38;5;241m.\u001b[39mtrain()\n",
      "File \u001b[0;32m~/anaconda3/lib/python3.11/site-packages/transformers/trainer.py:2241\u001b[0m, in \u001b[0;36mTrainer.train\u001b[0;34m(self, resume_from_checkpoint, trial, ignore_keys_for_eval, **kwargs)\u001b[0m\n\u001b[1;32m   2239\u001b[0m         hf_hub_utils\u001b[38;5;241m.\u001b[39menable_progress_bars()\n\u001b[1;32m   2240\u001b[0m \u001b[38;5;28;01melse\u001b[39;00m:\n\u001b[0;32m-> 2241\u001b[0m     \u001b[38;5;28;01mreturn\u001b[39;00m inner_training_loop(\n\u001b[1;32m   2242\u001b[0m         args\u001b[38;5;241m=\u001b[39margs,\n\u001b[1;32m   2243\u001b[0m         resume_from_checkpoint\u001b[38;5;241m=\u001b[39mresume_from_checkpoint,\n\u001b[1;32m   2244\u001b[0m         trial\u001b[38;5;241m=\u001b[39mtrial,\n\u001b[1;32m   2245\u001b[0m         ignore_keys_for_eval\u001b[38;5;241m=\u001b[39mignore_keys_for_eval,\n\u001b[1;32m   2246\u001b[0m     )\n",
      "File \u001b[0;32m~/anaconda3/lib/python3.11/site-packages/transformers/trainer.py:2599\u001b[0m, in \u001b[0;36mTrainer._inner_training_loop\u001b[0;34m(self, batch_size, args, resume_from_checkpoint, trial, ignore_keys_for_eval)\u001b[0m\n\u001b[1;32m   2595\u001b[0m         grad_norm \u001b[38;5;241m=\u001b[39m _grad_norm\n\u001b[1;32m   2597\u001b[0m \u001b[38;5;28mself\u001b[39m\u001b[38;5;241m.\u001b[39mcontrol \u001b[38;5;241m=\u001b[39m \u001b[38;5;28mself\u001b[39m\u001b[38;5;241m.\u001b[39mcallback_handler\u001b[38;5;241m.\u001b[39mon_pre_optimizer_step(args, \u001b[38;5;28mself\u001b[39m\u001b[38;5;241m.\u001b[39mstate, \u001b[38;5;28mself\u001b[39m\u001b[38;5;241m.\u001b[39mcontrol)\n\u001b[0;32m-> 2599\u001b[0m \u001b[38;5;28mself\u001b[39m\u001b[38;5;241m.\u001b[39moptimizer\u001b[38;5;241m.\u001b[39mstep()\n\u001b[1;32m   2601\u001b[0m \u001b[38;5;28mself\u001b[39m\u001b[38;5;241m.\u001b[39mcontrol \u001b[38;5;241m=\u001b[39m \u001b[38;5;28mself\u001b[39m\u001b[38;5;241m.\u001b[39mcallback_handler\u001b[38;5;241m.\u001b[39mon_optimizer_step(args, \u001b[38;5;28mself\u001b[39m\u001b[38;5;241m.\u001b[39mstate, \u001b[38;5;28mself\u001b[39m\u001b[38;5;241m.\u001b[39mcontrol)\n\u001b[1;32m   2603\u001b[0m \u001b[38;5;28;01mif\u001b[39;00m \u001b[38;5;129;01mnot\u001b[39;00m \u001b[38;5;28mself\u001b[39m\u001b[38;5;241m.\u001b[39maccelerator\u001b[38;5;241m.\u001b[39moptimizer_step_was_skipped:\n\u001b[1;32m   2604\u001b[0m     \u001b[38;5;66;03m# Delay optimizer scheduling until metrics are generated\u001b[39;00m\n",
      "File \u001b[0;32m~/anaconda3/lib/python3.11/site-packages/accelerate/optimizer.py:178\u001b[0m, in \u001b[0;36mAcceleratedOptimizer.step\u001b[0;34m(self, closure)\u001b[0m\n\u001b[1;32m    176\u001b[0m         \u001b[38;5;28mself\u001b[39m\u001b[38;5;241m.\u001b[39m_accelerate_step_called \u001b[38;5;241m=\u001b[39m \u001b[38;5;28;01mFalse\u001b[39;00m\n\u001b[1;32m    177\u001b[0m     \u001b[38;5;28;01melse\u001b[39;00m:\n\u001b[0;32m--> 178\u001b[0m         \u001b[38;5;28mself\u001b[39m\u001b[38;5;241m.\u001b[39moptimizer\u001b[38;5;241m.\u001b[39mstep(closure)\n\u001b[1;32m    179\u001b[0m \u001b[38;5;28;01mif\u001b[39;00m \u001b[38;5;28mself\u001b[39m\u001b[38;5;241m.\u001b[39maccelerator_state\u001b[38;5;241m.\u001b[39mdistributed_type \u001b[38;5;241m==\u001b[39m DistributedType\u001b[38;5;241m.\u001b[39mXLA:\n\u001b[1;32m    180\u001b[0m     \u001b[38;5;28mself\u001b[39m\u001b[38;5;241m.\u001b[39mgradient_state\u001b[38;5;241m.\u001b[39mis_xla_gradients_synced \u001b[38;5;241m=\u001b[39m \u001b[38;5;28;01mFalse\u001b[39;00m\n",
      "File \u001b[0;32m~/anaconda3/lib/python3.11/site-packages/torch/optim/lr_scheduler.py:69\u001b[0m, in \u001b[0;36mLRScheduler.__init__.<locals>.with_counter.<locals>.wrapper\u001b[0;34m(*args, **kwargs)\u001b[0m\n\u001b[1;32m     67\u001b[0m instance\u001b[38;5;241m.\u001b[39m_step_count \u001b[38;5;241m+\u001b[39m\u001b[38;5;241m=\u001b[39m \u001b[38;5;241m1\u001b[39m\n\u001b[1;32m     68\u001b[0m wrapped \u001b[38;5;241m=\u001b[39m func\u001b[38;5;241m.\u001b[39m\u001b[38;5;21m__get__\u001b[39m(instance, \u001b[38;5;28mcls\u001b[39m)\n\u001b[0;32m---> 69\u001b[0m \u001b[38;5;28;01mreturn\u001b[39;00m wrapped(\u001b[38;5;241m*\u001b[39margs, \u001b[38;5;241m*\u001b[39m\u001b[38;5;241m*\u001b[39mkwargs)\n",
      "File \u001b[0;32m~/anaconda3/lib/python3.11/site-packages/torch/optim/optimizer.py:280\u001b[0m, in \u001b[0;36mOptimizer.profile_hook_step.<locals>.wrapper\u001b[0;34m(*args, **kwargs)\u001b[0m\n\u001b[1;32m    276\u001b[0m         \u001b[38;5;28;01melse\u001b[39;00m:\n\u001b[1;32m    277\u001b[0m             \u001b[38;5;28;01mraise\u001b[39;00m \u001b[38;5;167;01mRuntimeError\u001b[39;00m(\u001b[38;5;124mf\u001b[39m\u001b[38;5;124m\"\u001b[39m\u001b[38;5;132;01m{\u001b[39;00mfunc\u001b[38;5;132;01m}\u001b[39;00m\u001b[38;5;124m must return None or a tuple of (new_args, new_kwargs),\u001b[39m\u001b[38;5;124m\"\u001b[39m\n\u001b[1;32m    278\u001b[0m                                \u001b[38;5;124mf\u001b[39m\u001b[38;5;124m\"\u001b[39m\u001b[38;5;124mbut got \u001b[39m\u001b[38;5;132;01m{\u001b[39;00mresult\u001b[38;5;132;01m}\u001b[39;00m\u001b[38;5;124m.\u001b[39m\u001b[38;5;124m\"\u001b[39m)\n\u001b[0;32m--> 280\u001b[0m out \u001b[38;5;241m=\u001b[39m func(\u001b[38;5;241m*\u001b[39margs, \u001b[38;5;241m*\u001b[39m\u001b[38;5;241m*\u001b[39mkwargs)\n\u001b[1;32m    281\u001b[0m \u001b[38;5;28mself\u001b[39m\u001b[38;5;241m.\u001b[39m_optimizer_step_code()\n\u001b[1;32m    283\u001b[0m \u001b[38;5;66;03m# call optimizer step post hooks\u001b[39;00m\n",
      "File \u001b[0;32m~/anaconda3/lib/python3.11/site-packages/torch/optim/optimizer.py:33\u001b[0m, in \u001b[0;36m_use_grad_for_differentiable.<locals>._use_grad\u001b[0;34m(self, *args, **kwargs)\u001b[0m\n\u001b[1;32m     31\u001b[0m \u001b[38;5;28;01mtry\u001b[39;00m:\n\u001b[1;32m     32\u001b[0m     torch\u001b[38;5;241m.\u001b[39mset_grad_enabled(\u001b[38;5;28mself\u001b[39m\u001b[38;5;241m.\u001b[39mdefaults[\u001b[38;5;124m'\u001b[39m\u001b[38;5;124mdifferentiable\u001b[39m\u001b[38;5;124m'\u001b[39m])\n\u001b[0;32m---> 33\u001b[0m     ret \u001b[38;5;241m=\u001b[39m func(\u001b[38;5;28mself\u001b[39m, \u001b[38;5;241m*\u001b[39margs, \u001b[38;5;241m*\u001b[39m\u001b[38;5;241m*\u001b[39mkwargs)\n\u001b[1;32m     34\u001b[0m \u001b[38;5;28;01mfinally\u001b[39;00m:\n\u001b[1;32m     35\u001b[0m     torch\u001b[38;5;241m.\u001b[39mset_grad_enabled(prev_grad)\n",
      "File \u001b[0;32m~/anaconda3/lib/python3.11/site-packages/torch/optim/adamw.py:171\u001b[0m, in \u001b[0;36mAdamW.step\u001b[0;34m(self, closure)\u001b[0m\n\u001b[1;32m    158\u001b[0m     beta1, beta2 \u001b[38;5;241m=\u001b[39m group[\u001b[38;5;124m\"\u001b[39m\u001b[38;5;124mbetas\u001b[39m\u001b[38;5;124m\"\u001b[39m]\n\u001b[1;32m    160\u001b[0m     \u001b[38;5;28mself\u001b[39m\u001b[38;5;241m.\u001b[39m_init_group(\n\u001b[1;32m    161\u001b[0m         group,\n\u001b[1;32m    162\u001b[0m         params_with_grad,\n\u001b[0;32m   (...)\u001b[0m\n\u001b[1;32m    168\u001b[0m         state_steps,\n\u001b[1;32m    169\u001b[0m     )\n\u001b[0;32m--> 171\u001b[0m     adamw(\n\u001b[1;32m    172\u001b[0m         params_with_grad,\n\u001b[1;32m    173\u001b[0m         grads,\n\u001b[1;32m    174\u001b[0m         exp_avgs,\n\u001b[1;32m    175\u001b[0m         exp_avg_sqs,\n\u001b[1;32m    176\u001b[0m         max_exp_avg_sqs,\n\u001b[1;32m    177\u001b[0m         state_steps,\n\u001b[1;32m    178\u001b[0m         amsgrad\u001b[38;5;241m=\u001b[39mamsgrad,\n\u001b[1;32m    179\u001b[0m         beta1\u001b[38;5;241m=\u001b[39mbeta1,\n\u001b[1;32m    180\u001b[0m         beta2\u001b[38;5;241m=\u001b[39mbeta2,\n\u001b[1;32m    181\u001b[0m         lr\u001b[38;5;241m=\u001b[39mgroup[\u001b[38;5;124m\"\u001b[39m\u001b[38;5;124mlr\u001b[39m\u001b[38;5;124m\"\u001b[39m],\n\u001b[1;32m    182\u001b[0m         weight_decay\u001b[38;5;241m=\u001b[39mgroup[\u001b[38;5;124m\"\u001b[39m\u001b[38;5;124mweight_decay\u001b[39m\u001b[38;5;124m\"\u001b[39m],\n\u001b[1;32m    183\u001b[0m         eps\u001b[38;5;241m=\u001b[39mgroup[\u001b[38;5;124m\"\u001b[39m\u001b[38;5;124meps\u001b[39m\u001b[38;5;124m\"\u001b[39m],\n\u001b[1;32m    184\u001b[0m         maximize\u001b[38;5;241m=\u001b[39mgroup[\u001b[38;5;124m\"\u001b[39m\u001b[38;5;124mmaximize\u001b[39m\u001b[38;5;124m\"\u001b[39m],\n\u001b[1;32m    185\u001b[0m         foreach\u001b[38;5;241m=\u001b[39mgroup[\u001b[38;5;124m\"\u001b[39m\u001b[38;5;124mforeach\u001b[39m\u001b[38;5;124m\"\u001b[39m],\n\u001b[1;32m    186\u001b[0m         capturable\u001b[38;5;241m=\u001b[39mgroup[\u001b[38;5;124m\"\u001b[39m\u001b[38;5;124mcapturable\u001b[39m\u001b[38;5;124m\"\u001b[39m],\n\u001b[1;32m    187\u001b[0m         differentiable\u001b[38;5;241m=\u001b[39mgroup[\u001b[38;5;124m\"\u001b[39m\u001b[38;5;124mdifferentiable\u001b[39m\u001b[38;5;124m\"\u001b[39m],\n\u001b[1;32m    188\u001b[0m         fused\u001b[38;5;241m=\u001b[39mgroup[\u001b[38;5;124m\"\u001b[39m\u001b[38;5;124mfused\u001b[39m\u001b[38;5;124m\"\u001b[39m],\n\u001b[1;32m    189\u001b[0m         grad_scale\u001b[38;5;241m=\u001b[39m\u001b[38;5;28mgetattr\u001b[39m(\u001b[38;5;28mself\u001b[39m, \u001b[38;5;124m\"\u001b[39m\u001b[38;5;124mgrad_scale\u001b[39m\u001b[38;5;124m\"\u001b[39m, \u001b[38;5;28;01mNone\u001b[39;00m),\n\u001b[1;32m    190\u001b[0m         found_inf\u001b[38;5;241m=\u001b[39m\u001b[38;5;28mgetattr\u001b[39m(\u001b[38;5;28mself\u001b[39m, \u001b[38;5;124m\"\u001b[39m\u001b[38;5;124mfound_inf\u001b[39m\u001b[38;5;124m\"\u001b[39m, \u001b[38;5;28;01mNone\u001b[39;00m),\n\u001b[1;32m    191\u001b[0m     )\n\u001b[1;32m    193\u001b[0m \u001b[38;5;28;01mreturn\u001b[39;00m loss\n",
      "File \u001b[0;32m~/anaconda3/lib/python3.11/site-packages/torch/optim/adamw.py:321\u001b[0m, in \u001b[0;36madamw\u001b[0;34m(params, grads, exp_avgs, exp_avg_sqs, max_exp_avg_sqs, state_steps, foreach, capturable, differentiable, fused, grad_scale, found_inf, amsgrad, beta1, beta2, lr, weight_decay, eps, maximize)\u001b[0m\n\u001b[1;32m    318\u001b[0m \u001b[38;5;28;01melse\u001b[39;00m:\n\u001b[1;32m    319\u001b[0m     func \u001b[38;5;241m=\u001b[39m _single_tensor_adamw\n\u001b[0;32m--> 321\u001b[0m func(\n\u001b[1;32m    322\u001b[0m     params,\n\u001b[1;32m    323\u001b[0m     grads,\n\u001b[1;32m    324\u001b[0m     exp_avgs,\n\u001b[1;32m    325\u001b[0m     exp_avg_sqs,\n\u001b[1;32m    326\u001b[0m     max_exp_avg_sqs,\n\u001b[1;32m    327\u001b[0m     state_steps,\n\u001b[1;32m    328\u001b[0m     amsgrad\u001b[38;5;241m=\u001b[39mamsgrad,\n\u001b[1;32m    329\u001b[0m     beta1\u001b[38;5;241m=\u001b[39mbeta1,\n\u001b[1;32m    330\u001b[0m     beta2\u001b[38;5;241m=\u001b[39mbeta2,\n\u001b[1;32m    331\u001b[0m     lr\u001b[38;5;241m=\u001b[39mlr,\n\u001b[1;32m    332\u001b[0m     weight_decay\u001b[38;5;241m=\u001b[39mweight_decay,\n\u001b[1;32m    333\u001b[0m     eps\u001b[38;5;241m=\u001b[39meps,\n\u001b[1;32m    334\u001b[0m     maximize\u001b[38;5;241m=\u001b[39mmaximize,\n\u001b[1;32m    335\u001b[0m     capturable\u001b[38;5;241m=\u001b[39mcapturable,\n\u001b[1;32m    336\u001b[0m     differentiable\u001b[38;5;241m=\u001b[39mdifferentiable,\n\u001b[1;32m    337\u001b[0m     grad_scale\u001b[38;5;241m=\u001b[39mgrad_scale,\n\u001b[1;32m    338\u001b[0m     found_inf\u001b[38;5;241m=\u001b[39mfound_inf,\n\u001b[1;32m    339\u001b[0m )\n",
      "File \u001b[0;32m~/anaconda3/lib/python3.11/site-packages/torch/optim/adamw.py:442\u001b[0m, in \u001b[0;36m_single_tensor_adamw\u001b[0;34m(params, grads, exp_avgs, exp_avg_sqs, max_exp_avg_sqs, state_steps, grad_scale, found_inf, amsgrad, beta1, beta2, lr, weight_decay, eps, maximize, capturable, differentiable)\u001b[0m\n\u001b[1;32m    439\u001b[0m \u001b[38;5;28;01melse\u001b[39;00m:\n\u001b[1;32m    440\u001b[0m     denom \u001b[38;5;241m=\u001b[39m (exp_avg_sq\u001b[38;5;241m.\u001b[39msqrt() \u001b[38;5;241m/\u001b[39m bias_correction2_sqrt)\u001b[38;5;241m.\u001b[39madd_(eps)\n\u001b[0;32m--> 442\u001b[0m param\u001b[38;5;241m.\u001b[39maddcdiv_(exp_avg, denom, value\u001b[38;5;241m=\u001b[39m\u001b[38;5;241m-\u001b[39mstep_size)\n",
      "\u001b[0;31mKeyboardInterrupt\u001b[0m: "
     ]
    }
   ],
   "source": [
    "trainer.train()\n"
   ]
  },
  {
   "cell_type": "markdown",
   "metadata": {},
   "source": [
    "LSTMModel"
   ]
  },
  {
   "cell_type": "code",
   "execution_count": 28,
   "metadata": {},
   "outputs": [
    {
     "name": "stdout",
     "output_type": "stream",
     "text": [
      "Epoch 1, Loss: 0.6945\n",
      "Epoch 2, Loss: 0.6974\n",
      "Epoch 3, Loss: 0.6818\n",
      "Epoch 4, Loss: 0.6939\n",
      "Epoch 5, Loss: 0.7101\n"
     ]
    }
   ],
   "source": [
    "# Import necessary libraries\n",
    "import torch\n",
    "import torch.nn as nn\n",
    "import torch.optim as optim\n",
    "from torch.utils.data import TensorDataset, DataLoader  # ✅ Import TensorDataset and DataLoader\n",
    "import numpy as np\n",
    "import nltk\n",
    "\n",
    "# Convert text to numerical tokens\n",
    "tokenizer = nltk.word_tokenize\n",
    "X_train_tokens = [tokenizer(text) for text in X_train]\n",
    "X_test_tokens = [tokenizer(text) for text in X_test]\n",
    "\n",
    "# Create word index mapping\n",
    "word2idx = {word: idx + 1 for idx, word in enumerate(set(sum(X_train_tokens, [])))}\n",
    "X_train_indices = [[word2idx[word] for word in text if word in word2idx] for text in X_train_tokens]\n",
    "X_test_indices = [[word2idx[word] for word in text if word in word2idx] for text in X_test_tokens]\n",
    "\n",
    "# Pad sequences\n",
    "max_len = 50\n",
    "X_train_tensor = torch.tensor([np.pad(seq, (0, max_len - len(seq)), mode='constant')[:max_len] for seq in X_train_indices])\n",
    "X_test_tensor = torch.tensor([np.pad(seq, (0, max_len - len(seq)), mode='constant')[:max_len] for seq in X_test_indices])\n",
    "y_train_tensor = torch.tensor(y_train.values)\n",
    "y_test_tensor = torch.tensor(y_test.values)\n",
    "\n",
    "# Define LSTM Model\n",
    "class LSTMModel(nn.Module):\n",
    "    def __init__(self, vocab_size, embed_dim, hidden_dim, output_dim):\n",
    "        super(LSTMModel, self).__init__()\n",
    "        self.embedding = nn.Embedding(vocab_size, embed_dim)\n",
    "        self.lstm = nn.LSTM(embed_dim, hidden_dim, batch_first=True)\n",
    "        self.fc = nn.Linear(hidden_dim, output_dim)\n",
    "\n",
    "    def forward(self, x):\n",
    "        x = self.embedding(x)\n",
    "        lstm_out, _ = self.lstm(x)\n",
    "        lstm_out = lstm_out[:, -1, :]\n",
    "        return self.fc(lstm_out)\n",
    "\n",
    "# Train LSTM Model\n",
    "lstm_model = LSTMModel(len(word2idx) + 1, 50, 100, 2)\n",
    "criterion = nn.CrossEntropyLoss()\n",
    "optimizer = optim.Adam(lstm_model.parameters(), lr=0.001)\n",
    "train_loader = DataLoader(TensorDataset(X_train_tensor, y_train_tensor), batch_size=32, shuffle=True)  # ✅ Now TensorDataset is defined\n",
    "\n",
    "for epoch in range(5):\n",
    "    for inputs, labels in train_loader:\n",
    "        optimizer.zero_grad()\n",
    "        outputs = lstm_model(inputs)\n",
    "        loss = criterion(outputs, labels)\n",
    "        loss.backward()\n",
    "        optimizer.step()\n",
    "    print(f\"Epoch {epoch+1}, Loss: {loss.item():.4f}\")"
   ]
  },
  {
   "cell_type": "markdown",
   "metadata": {},
   "source": [
    "5. Topic Modeling (LDA)"
   ]
  },
  {
   "cell_type": "code",
   "execution_count": 29,
   "metadata": {},
   "outputs": [
    {
     "name": "stdout",
     "output_type": "stream",
     "text": [
      "\n",
      "LDA Topics:\n",
      "(0, '0.025*\"video\" + 0.025*\"trump\" + 0.012*\"hillary\" + 0.011*\"clinton\" + 0.007*\"obama\"')\n",
      "(1, '0.035*\"us\" + 0.031*\"trump\" + 0.027*\"says\" + 0.018*\"house\" + 0.010*\"white\"')\n",
      "(2, '0.006*\"war\" + 0.006*\"syrian\" + 0.006*\"end\" + 0.005*\"air\" + 0.005*\"myanmar\"')\n",
      "(3, '0.053*\"video\" + 0.041*\"trump\" + 0.013*\"watch\" + 0.009*\"news\" + 0.008*\"black\"')\n",
      "(4, '0.018*\"trump\" + 0.015*\"court\" + 0.014*\"us\" + 0.009*\"new\" + 0.007*\"ban\"')\n"
     ]
    }
   ],
   "source": [
    "dictionary = Dictionary([preprocess_text(text).split() for text in X_train])\n",
    "corpus = [dictionary.doc2bow(text.split()) for text in X_train]\n",
    "lda_model = LdaModel(corpus, num_topics=5, id2word=dictionary, passes=10)\n",
    "topics = lda_model.print_topics(num_words=5)\n",
    "\n",
    "print(\"\\nLDA Topics:\")\n",
    "for topic in topics:\n",
    "    print(topic)"
   ]
  },
  {
   "cell_type": "markdown",
   "metadata": {},
   "source": [
    "6. Weakly Supervised Learning (Self-Training)"
   ]
  },
  {
   "cell_type": "code",
   "execution_count": 30,
   "metadata": {},
   "outputs": [
    {
     "name": "stderr",
     "output_type": "stream",
     "text": [
      "/Users/hanhuazhu/.local/lib/python3.11/site-packages/sklearn/semi_supervised/_self_training.py:227: UserWarning: y contains no unlabeled samples\n",
      "  warnings.warn(\"y contains no unlabeled samples\", UserWarning)\n"
     ]
    },
    {
     "name": "stdout",
     "output_type": "stream",
     "text": [
      "Weakly Supervised Learning Accuracy: 0.9416\n"
     ]
    }
   ],
   "source": [
    "from sklearn.semi_supervised import SelfTrainingClassifier\n",
    "\n",
    "self_training_model = SelfTrainingClassifier(base_estimator=LogisticRegression(), max_iter=10)\n",
    "self_training_model.fit(X_train_tfidf, y_train)\n",
    "self_training_acc = self_training_model.score(X_test_tfidf, y_test)\n",
    "print(f\"Weakly Supervised Learning Accuracy: {self_training_acc:.4f}\")"
   ]
  },
  {
   "cell_type": "code",
   "execution_count": 31,
   "metadata": {},
   "outputs": [
    {
     "name": "stderr",
     "output_type": "stream",
     "text": [
      "[nltk_data] Downloading package punkt to /Users/hanhuazhu/nltk_data...\n",
      "[nltk_data]   Package punkt is already up-to-date!\n"
     ]
    },
    {
     "name": "stdout",
     "output_type": "stream",
     "text": [
      "\n",
      "Top Bi-grams in Fake News Headlines: [(('’', 's'), 7152), (('video', ']'), 5136), (('[', 'video'), 5124), (('video', ')'), 2560), (('(', 'video'), 2555), ((':', '“'), 1581), (('’', 't'), 1563), (('trump', '’'), 1494), (('watch', ':'), 1214), (('”', '['), 1178)]\n",
      "\n",
      "Top Tri-grams in Fake News Headlines: [(('[', 'video', ']'), 5120), (('(', 'video', ')'), 2553), (('trump', '’', 's'), 1456), (('”', '[', 'video'), 1164), (('obama', '’', 's'), 668), (('it', '’', 's'), 510), (('(', 'tweets', ')'), 430), (('hillary', '’', 's'), 418), (('he', '’', 's'), 358), (('won', '’', 't'), 320)]\n",
      "\n",
      "Top Bi-grams in Real News Headlines: [(('white', 'house'), 783), (('north', 'korea'), 716), (('trump', \"'s\"), 670), (('factbox', ':'), 409), (('trump', 'says'), 355), (('trump', 'to'), 309), ((':', 'white'), 269), ((':', 'trump'), 247), (('islamic', 'state'), 242), (('trump', ','), 238)]\n",
      "\n",
      "Top Tri-grams in Real News Headlines: [((':', 'white', 'house'), 269), (('on', 'north', 'korea'), 136), (('factbox', ':', 'trump'), 130), (('trump', 'on', 'twitter'), 100), (('on', 'twitter', '('), 98), (('trump', 'says', 'he'), 94), (('white', 'house', 'says'), 86), (('house', 'speaker', 'ryan'), 76), ((':', 'trump', 'on'), 72), (('iran', 'nuclear', 'deal'), 69)]\n"
     ]
    }
   ],
   "source": [
    "# Import necessary libraries\n",
    "import nltk\n",
    "from collections import Counter\n",
    "from nltk.util import ngrams\n",
    "\n",
    "# Ensure necessary NLTK resources are available\n",
    "nltk.download('punkt')\n",
    "\n",
    "# Tokenize text into words\n",
    "def tokenize_text(text):\n",
    "    return nltk.word_tokenize(text.lower())\n",
    "\n",
    "# Function to extract n-grams (bi-grams and tri-grams)\n",
    "def extract_ngrams(texts, n=2, top_n=10):\n",
    "    all_ngrams = []\n",
    "    for text in texts:\n",
    "        tokens = tokenize_text(text)\n",
    "        n_grams = list(ngrams(tokens, n))\n",
    "        all_ngrams.extend(n_grams)\n",
    "    \n",
    "    # Count frequency of n-grams\n",
    "    ngram_freq = Counter(all_ngrams)\n",
    "    \n",
    "    # Return top N most common n-grams\n",
    "    return ngram_freq.most_common(top_n)\n",
    "\n",
    "# Extract top bi-grams and tri-grams from fake news headlines\n",
    "top_bigrams_fake = extract_ngrams(df_fake['title'], n=2, top_n=10)\n",
    "top_trigrams_fake = extract_ngrams(df_fake['title'], n=3, top_n=10)\n",
    "\n",
    "# Extract top bi-grams and tri-grams from real news headlines\n",
    "top_bigrams_real = extract_ngrams(df_true['title'], n=2, top_n=10)\n",
    "top_trigrams_real = extract_ngrams(df_true['title'], n=3, top_n=10)\n",
    "\n",
    "# Display results\n",
    "print(\"\\nTop Bi-grams in Fake News Headlines:\", top_bigrams_fake)\n",
    "print(\"\\nTop Tri-grams in Fake News Headlines:\", top_trigrams_fake)\n",
    "print(\"\\nTop Bi-grams in Real News Headlines:\", top_bigrams_real)\n",
    "print(\"\\nTop Tri-grams in Real News Headlines:\", top_trigrams_real)"
   ]
  },
  {
   "cell_type": "code",
   "execution_count": 32,
   "metadata": {},
   "outputs": [
    {
     "data": {
      "image/png": "[encoded data removed]",
      "text/plain": [
       "<Figure size 1000x500 with 1 Axes>"
      ]
     },
     "metadata": {},
     "output_type": "display_data"
    },
    {
     "data": {
      "image/png": "[encoded data removed]",
      "text/plain": [
       "<Figure size 1000x500 with 1 Axes>"
      ]
     },
     "metadata": {},
     "output_type": "display_data"
    },
    {
     "data": {
      "image/png": "[encoded data removed]",
      "text/plain": [
       "<Figure size 1000x500 with 1 Axes>"
      ]
     },
     "metadata": {},
     "output_type": "display_data"
    },
    {
     "data": {
      "image/png": "[encoded data removed]",
      "text/plain": [
       "<Figure size 1000x500 with 1 Axes>"
      ]
     },
     "metadata": {},
     "output_type": "display_data"
    }
   ],
   "source": [
    "import matplotlib.pyplot as plt\n",
    "\n",
    "# Function to plot n-grams\n",
    "def plot_ngrams(ngram_list, title, color='blue'):\n",
    "    ngrams, counts = zip(*ngram_list)  # Unpack tuples\n",
    "    ngrams = [' '.join(gram) for gram in ngrams]  # Convert tuples to strings\n",
    "\n",
    "    plt.figure(figsize=(10, 5))\n",
    "    plt.barh(ngrams[::-1], counts[::-1], color=color)  # Reverse order for better visualization\n",
    "    plt.xlabel(\"Frequency\")\n",
    "    plt.ylabel(\"N-Grams\")\n",
    "    plt.title(title)\n",
    "    plt.show()\n",
    "\n",
    "# 🔹 Plot Fake News N-Grams\n",
    "plot_ngrams(top_bigrams_fake, \"Top Bi-grams in Fake News Headlines\", color=\"red\")\n",
    "plot_ngrams(top_trigrams_fake, \"Top Tri-grams in Fake News Headlines\", color=\"red\")\n",
    "\n",
    "# 🔹 Plot Real News N-Grams\n",
    "plot_ngrams(top_bigrams_real, \"Top Bi-grams in Real News Headlines\", color=\"blue\")\n",
    "plot_ngrams(top_trigrams_real, \"Top Tri-grams in Real News Headlines\", color=\"blue\")\n"
   ]
  },
  {
   "cell_type": "code",
   "execution_count": 35,
   "metadata": {},
   "outputs": [
    {
     "name": "stdout",
     "output_type": "stream",
     "text": [
      "  Fake News Bi-grams  Fake News Bi-gram Count Real News Bi-grams  \\\n",
      "0                ’ s                     7152        white house   \n",
      "1            video ]                     5136        north korea   \n",
      "2            [ video                     5124           trump 's   \n",
      "3            video )                     2560          factbox :   \n",
      "4            ( video                     2555         trump says   \n",
      "5                : “                     1581           trump to   \n",
      "6                ’ t                     1563            : white   \n",
      "7            trump ’                     1494            : trump   \n",
      "8            watch :                     1214      islamic state   \n",
      "9                ” [                     1178            trump ,   \n",
      "\n",
      "   Real News Bi-gram Count Fake News Tri-grams  Fake News Tri-gram Count  \\\n",
      "0                      783           [ video ]                      5120   \n",
      "1                      716           ( video )                      2553   \n",
      "2                      670           trump ’ s                      1456   \n",
      "3                      409           ” [ video                      1164   \n",
      "4                      355           obama ’ s                       668   \n",
      "5                      309              it ’ s                       510   \n",
      "6                      269          ( tweets )                       430   \n",
      "7                      247         hillary ’ s                       418   \n",
      "8                      242              he ’ s                       358   \n",
      "9                      238             won ’ t                       320   \n",
      "\n",
      "  Real News Tri-grams  Real News Tri-gram Count  \n",
      "0       : white house                       269  \n",
      "1      on north korea                       136  \n",
      "2     factbox : trump                       130  \n",
      "3    trump on twitter                       100  \n",
      "4        on twitter (                        98  \n",
      "5       trump says he                        94  \n",
      "6    white house says                        86  \n",
      "7  house speaker ryan                        76  \n",
      "8          : trump on                        72  \n",
      "9   iran nuclear deal                        69  \n"
     ]
    },
    {
     "data": {
      "text/html": [
       "<div>\n",
       "<style scoped>\n",
       "    .dataframe tbody tr th:only-of-type {\n",
       "        vertical-align: middle;\n",
       "    }\n",
       "\n",
       "    .dataframe tbody tr th {\n",
       "        vertical-align: top;\n",
       "    }\n",
       "\n",
       "    .dataframe thead th {\n",
       "        text-align: right;\n",
       "    }\n",
       "</style>\n",
       "<table border=\"1\" class=\"dataframe\">\n",
       "  <thead>\n",
       "    <tr style=\"text-align: right;\">\n",
       "      <th></th>\n",
       "      <th>Fake News Bi-grams</th>\n",
       "      <th>Fake News Bi-gram Count</th>\n",
       "      <th>Real News Bi-grams</th>\n",
       "      <th>Real News Bi-gram Count</th>\n",
       "      <th>Fake News Tri-grams</th>\n",
       "      <th>Fake News Tri-gram Count</th>\n",
       "      <th>Real News Tri-grams</th>\n",
       "      <th>Real News Tri-gram Count</th>\n",
       "    </tr>\n",
       "  </thead>\n",
       "  <tbody>\n",
       "    <tr>\n",
       "      <th>0</th>\n",
       "      <td>’ s</td>\n",
       "      <td>7152</td>\n",
       "      <td>white house</td>\n",
       "      <td>783</td>\n",
       "      <td>[ video ]</td>\n",
       "      <td>5120</td>\n",
       "      <td>: white house</td>\n",
       "      <td>269</td>\n",
       "    </tr>\n",
       "    <tr>\n",
       "      <th>1</th>\n",
       "      <td>video ]</td>\n",
       "      <td>5136</td>\n",
       "      <td>north korea</td>\n",
       "      <td>716</td>\n",
       "      <td>( video )</td>\n",
       "      <td>2553</td>\n",
       "      <td>on north korea</td>\n",
       "      <td>136</td>\n",
       "    </tr>\n",
       "    <tr>\n",
       "      <th>2</th>\n",
       "      <td>[ video</td>\n",
       "      <td>5124</td>\n",
       "      <td>trump 's</td>\n",
       "      <td>670</td>\n",
       "      <td>trump ’ s</td>\n",
       "      <td>1456</td>\n",
       "      <td>factbox : trump</td>\n",
       "      <td>130</td>\n",
       "    </tr>\n",
       "    <tr>\n",
       "      <th>3</th>\n",
       "      <td>video )</td>\n",
       "      <td>2560</td>\n",
       "      <td>factbox :</td>\n",
       "      <td>409</td>\n",
       "      <td>” [ video</td>\n",
       "      <td>1164</td>\n",
       "      <td>trump on twitter</td>\n",
       "      <td>100</td>\n",
       "    </tr>\n",
       "    <tr>\n",
       "      <th>4</th>\n",
       "      <td>( video</td>\n",
       "      <td>2555</td>\n",
       "      <td>trump says</td>\n",
       "      <td>355</td>\n",
       "      <td>obama ’ s</td>\n",
       "      <td>668</td>\n",
       "      <td>on twitter (</td>\n",
       "      <td>98</td>\n",
       "    </tr>\n",
       "    <tr>\n",
       "      <th>5</th>\n",
       "      <td>: “</td>\n",
       "      <td>1581</td>\n",
       "      <td>trump to</td>\n",
       "      <td>309</td>\n",
       "      <td>it ’ s</td>\n",
       "      <td>510</td>\n",
       "      <td>trump says he</td>\n",
       "      <td>94</td>\n",
       "    </tr>\n",
       "    <tr>\n",
       "      <th>6</th>\n",
       "      <td>’ t</td>\n",
       "      <td>1563</td>\n",
       "      <td>: white</td>\n",
       "      <td>269</td>\n",
       "      <td>( tweets )</td>\n",
       "      <td>430</td>\n",
       "      <td>white house says</td>\n",
       "      <td>86</td>\n",
       "    </tr>\n",
       "    <tr>\n",
       "      <th>7</th>\n",
       "      <td>trump ’</td>\n",
       "      <td>1494</td>\n",
       "      <td>: trump</td>\n",
       "      <td>247</td>\n",
       "      <td>hillary ’ s</td>\n",
       "      <td>418</td>\n",
       "      <td>house speaker ryan</td>\n",
       "      <td>76</td>\n",
       "    </tr>\n",
       "    <tr>\n",
       "      <th>8</th>\n",
       "      <td>watch :</td>\n",
       "      <td>1214</td>\n",
       "      <td>islamic state</td>\n",
       "      <td>242</td>\n",
       "      <td>he ’ s</td>\n",
       "      <td>358</td>\n",
       "      <td>: trump on</td>\n",
       "      <td>72</td>\n",
       "    </tr>\n",
       "    <tr>\n",
       "      <th>9</th>\n",
       "      <td>” [</td>\n",
       "      <td>1178</td>\n",
       "      <td>trump ,</td>\n",
       "      <td>238</td>\n",
       "      <td>won ’ t</td>\n",
       "      <td>320</td>\n",
       "      <td>iran nuclear deal</td>\n",
       "      <td>69</td>\n",
       "    </tr>\n",
       "  </tbody>\n",
       "</table>\n",
       "</div>"
      ],
      "text/plain": [
       "  Fake News Bi-grams  Fake News Bi-gram Count Real News Bi-grams  \\\n",
       "0                ’ s                     7152        white house   \n",
       "1            video ]                     5136        north korea   \n",
       "2            [ video                     5124           trump 's   \n",
       "3            video )                     2560          factbox :   \n",
       "4            ( video                     2555         trump says   \n",
       "5                : “                     1581           trump to   \n",
       "6                ’ t                     1563            : white   \n",
       "7            trump ’                     1494            : trump   \n",
       "8            watch :                     1214      islamic state   \n",
       "9                ” [                     1178            trump ,   \n",
       "\n",
       "   Real News Bi-gram Count Fake News Tri-grams  Fake News Tri-gram Count  \\\n",
       "0                      783           [ video ]                      5120   \n",
       "1                      716           ( video )                      2553   \n",
       "2                      670           trump ’ s                      1456   \n",
       "3                      409           ” [ video                      1164   \n",
       "4                      355           obama ’ s                       668   \n",
       "5                      309              it ’ s                       510   \n",
       "6                      269          ( tweets )                       430   \n",
       "7                      247         hillary ’ s                       418   \n",
       "8                      242              he ’ s                       358   \n",
       "9                      238             won ’ t                       320   \n",
       "\n",
       "  Real News Tri-grams  Real News Tri-gram Count  \n",
       "0       : white house                       269  \n",
       "1      on north korea                       136  \n",
       "2     factbox : trump                       130  \n",
       "3    trump on twitter                       100  \n",
       "4        on twitter (                        98  \n",
       "5       trump says he                        94  \n",
       "6    white house says                        86  \n",
       "7  house speaker ryan                        76  \n",
       "8          : trump on                        72  \n",
       "9   iran nuclear deal                        69  "
      ]
     },
     "metadata": {},
     "output_type": "display_data"
    }
   ],
   "source": [
    "import pandas as pd\n",
    "\n",
    "# Convert n-grams into DataFrames for side-by-side comparison\n",
    "df_ngrams = pd.DataFrame({\n",
    "    \"Fake News Bi-grams\": [' '.join(gram) for gram, _ in top_bigrams_fake],\n",
    "    \"Fake News Bi-gram Count\": [count for _, count in top_bigrams_fake],\n",
    "    \"Real News Bi-grams\": [' '.join(gram) for gram, _ in top_bigrams_real],\n",
    "    \"Real News Bi-gram Count\": [count for _, count in top_bigrams_real],\n",
    "    \"Fake News Tri-grams\": [' '.join(gram) for gram, _ in top_trigrams_fake],\n",
    "    \"Fake News Tri-gram Count\": [count for _, count in top_trigrams_fake],\n",
    "    \"Real News Tri-grams\": [' '.join(gram) for gram, _ in top_trigrams_real],\n",
    "    \"Real News Tri-gram Count\": [count for _, count in top_trigrams_real]\n",
    "})\n",
    "\n",
    "# Display DataFrame using Pandas\n",
    "print(df_ngrams)\n",
    "\n",
    "# If using Jupyter Notebook, display it nicely\n",
    "from IPython.display import display\n",
    "display(df_ngrams)\n",
    "\n"
   ]
  },
  {
   "cell_type": "code",
   "execution_count": 34,
   "metadata": {},
   "outputs": [
    {
     "name": "stdout",
     "output_type": "stream",
     "text": [
      "              precision    recall  f1-score   support\n",
      "\n",
      "           0       0.91      0.86      0.88      4733\n",
      "           1       0.85      0.90      0.88      4247\n",
      "\n",
      "    accuracy                           0.88      8980\n",
      "   macro avg       0.88      0.88      0.88      8980\n",
      "weighted avg       0.88      0.88      0.88      8980\n",
      "\n"
     ]
    }
   ],
   "source": [
    "from sklearn.feature_extraction.text import TfidfVectorizer\n",
    "from sklearn.model_selection import train_test_split\n",
    "from sklearn.ensemble import RandomForestClassifier\n",
    "from sklearn.metrics import classification_report\n",
    "\n",
    "# Combine fake and real news headlines\n",
    "df_fake[\"label\"] = 0  # Fake news label = 0\n",
    "df_true[\"label\"] = 1  # Real news label = 1\n",
    "df_combined = pd.concat([df_fake, df_true]).reset_index(drop=True)\n",
    "\n",
    "# Extract headlines and labels\n",
    "X = df_combined[\"title\"]\n",
    "y = df_combined[\"label\"]\n",
    "\n",
    "# Convert headlines into n-gram TF-IDF features\n",
    "vectorizer = TfidfVectorizer(ngram_range=(2, 3), max_features=5000)  # Use bi-grams & tri-grams\n",
    "X_tfidf = vectorizer.fit_transform(X)\n",
    "\n",
    "# Split into training and testing sets\n",
    "X_train, X_test, y_train, y_test = train_test_split(X_tfidf, y, test_size=0.2, random_state=42)\n",
    "\n",
    "# Train a Random Forest classifier\n",
    "classifier = RandomForestClassifier(n_estimators=100, random_state=42)\n",
    "classifier.fit(X_train, y_train)\n",
    "\n",
    "# Predict on test set\n",
    "y_pred = classifier.predict(X_test)\n",
    "\n",
    "# Print classification results\n",
    "print(classification_report(y_test, y_pred))\n"
   ]
  }
 ],
 "metadata": {
  "kernelspec": {
   "display_name": "base",
   "language": "python",
   "name": "python3"
  },
  "language_info": {
   "codemirror_mode": {
    "name": "ipython",
    "version": 3
   },
   "file_extension": ".py",
   "mimetype": "text/x-python",
   "name": "python",
   "nbconvert_exporter": "python",
   "pygments_lexer": "ipython3",
   "version": "3.11.3"
  }
 },
 "nbformat": 4,
 "nbformat_minor": 2
}
